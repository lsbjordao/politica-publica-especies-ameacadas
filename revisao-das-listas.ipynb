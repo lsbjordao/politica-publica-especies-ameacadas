{
  "cells": [
    {
      "cell_type": "markdown",
      "metadata": {},
      "source": [
        "# Revisão das Listas Nacionais Oficiais de Espécies Ameaçadas de Extinção\n",
        "\n",
        "## Portaria MMA nº 162/16\n",
        "\n",
        "Portaria MMA nº 162/16 estabelece os procedimentos para revisão, elaboração e publicação das Listas Nacionais Oficiais de Espécies Ameaçadas de Extinção, previstas no Pró-Espécies, estabelecido pela Portaria nº 43/14 (art. 1º).\n",
        "\n",
        "\n",
        "```{html}\n",
        "<!DOCTYPE html>\n",
        "<html lang=\"pt\">\n",
        "<head>\n",
        "    <meta charset=\"UTF-8\">\n",
        "    <meta name=\"viewport\" content=\"width=device-width, initial-scale=1.0\">\n",
        "    <title>Diagrama Portaria MMA nº 162/16</title>\n",
        "    <script src=\"https://cdn.jsdelivr.net/npm/mermaid/dist/mermaid.min.js\"></script>\n",
        "    <script>\n",
        "        document.addEventListener(\"DOMContentLoaded\", function() {\n",
        "            mermaid.initialize({ startOnLoad: true });\n",
        "        });\n",
        "    </script>\n",
        "</head>\n",
        "<body>\n",
        "    <div class=\"mermaid\">\n",
        "        flowchart TD\n",
        "            C[JBRJ propõe alteração da lista ao MMA]\n",
        "            C -->|Requisitos| D[Validação externa por especialistas]\n",
        "            D -->|Inclusão de informações técnicas| E[Distribuição geográfica, fatores de ameaça, estado de conservação]\n",
        "            C -->|Submissão ao| F[MMA]\n",
        "            F -->|Encaminha para| G[CONABIO]\n",
        "            G -->|Tem 60 dias para análise| H[Manifestação sobre a proposta]\n",
        "            H -->|Em caso de divergência| I[Apresentação de estudos e análises]\n",
        "            I -->|Se necessário, MMA convoca| J[Painel de especialistas]\n",
        "            J -->|Avaliação das ponderações do CONABIO| K[Decisão conjunta MMA e painel]\n",
        "            K -->|Se procedente| L[JBRJ reavalia as espécies questionadas]\n",
        "            L -->|Considerando novas informações| M[Reenvio ao MMA]\n",
        "            M -->|Emissão de parecer final| N[MMA emite parecer final]\n",
        "    </div>\n",
        "</body>\n",
        "</html>\n",
        "```"
      ],
      "id": "3c0b9d95"
    }
  ],
  "metadata": {
    "kernelspec": {
      "name": "python3",
      "language": "python",
      "display_name": "Python 3 (ipykernel)"
    }
  },
  "nbformat": 4,
  "nbformat_minor": 5
}